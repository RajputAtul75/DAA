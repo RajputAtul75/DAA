{
  "nbformat": 4,
  "nbformat_minor": 0,
  "metadata": {
    "colab": {
      "provenance": [],
      "include_colab_link": true
    },
    "kernelspec": {
      "name": "python3",
      "display_name": "Python 3"
    },
    "language_info": {
      "name": "python"
    }
  },
  "cells": [
    {
      "cell_type": "markdown",
      "metadata": {
        "id": "view-in-github",
        "colab_type": "text"
      },
      "source": [
        "<a href=\"https://colab.research.google.com/github/RajputAtul75/DAA/blob/main/lesson1.ipynb\" target=\"_parent\"><img src=\"https://colab.research.google.com/assets/colab-badge.svg\" alt=\"Open In Colab\"/></a>"
      ]
    },
    {
      "cell_type": "markdown",
      "source": [
        "# 📝 Learning Objectives\n",
        "\n",
        "By the end of the lesson, students will:\n",
        "\n",
        "    Understand what an algorithm is.\n",
        "\n",
        "    Know why we need to think before we code.\n",
        "\n",
        "    Learn one simple greedy algorithm (choose the best option first).\n",
        "\n",
        "    Be able to write a basic Python function with your help.\n"
      ],
      "metadata": {
        "id": "s9csioUiZZfx"
      }
    },
    {
      "cell_type": "markdown",
      "source": [
        "📚 Materials Needed\n",
        "\n",
        "    Your laptop with Python installed (Jupyter or any IDE)\n",
        "\n",
        "    Whiteboard or drawing tool (optional)\n",
        "\n",
        "    Coins (real or printed) for interactive demo\n",
        "    "
      ],
      "metadata": {
        "id": "OYYQBgkMZngE"
      }
    },
    {
      "cell_type": "code",
      "execution_count": null,
      "metadata": {
        "colab": {
          "base_uri": "https://localhost:8080/"
        },
        "id": "GKei2C15ZOKZ",
        "outputId": "938db6fd-b5e4-4689-ee62-0fe4e05430ae"
      },
      "outputs": [
        {
          "output_type": "stream",
          "name": "stdout",
          "text": [
            "Hello! Let's count money.\n"
          ]
        }
      ],
      "source": [
        "print(\"Hello! Let's count money.heheh\")"
      ]
    },
    {
      "cell_type": "markdown",
      "source": [
        "# 🪙 **Problem: Minimum Number of Coins**"
      ],
      "metadata": {
        "id": "JlXLzsEzj5kq"
      }
    },
    {
      "cell_type": "markdown",
      "source": [
        "\n",
        "    Suppose you have to pay ₹20, and you have coins of ₹10, ₹5, ₹2, and ₹1.\n",
        "    What’s the fewest coins you can use?"
      ],
      "metadata": {
        "id": "kk1yFqGejh1E"
      }
    },
    {
      "cell_type": "markdown",
      "source": [
        "💡 I**dea: Use the biggest coins first**\n",
        "\n",
        "   This is called a Greedy Algorithm — it grabs the best option (biggest coin) at each step."
      ],
      "metadata": {
        "id": "dMH0ik8-jumv"
      }
    },
    {
      "cell_type": "code",
      "source": [
        "def greedy_coins(value):\n",
        "    coins = [50, 5, 2, 1]\n",
        "    result = []\n",
        "    for coin in coins:\n",
        "        while value >= coin:\n",
        "            value -= coin\n",
        "            result.append(coin)\n",
        "    return result\n",
        "\n",
        "print(greedy_coins(503))  # Output: [10, 5, 2, 1]\n"
      ],
      "metadata": {
        "colab": {
          "base_uri": "https://localhost:8080/"
        },
        "id": "sP0iKO2hZ78o",
        "outputId": "7e7012b4-4636-44ed-940e-b372aa1c4083"
      },
      "execution_count": 9,
      "outputs": [
        {
          "output_type": "stream",
          "name": "stdout",
          "text": [
            "[50, 50, 50, 50, 50, 50, 50, 50, 50, 50, 2, 1]\n"
          ]
        }
      ]
    },
    {
      "cell_type": "markdown",
      "source": [
        "The algorithm is called a greedy algorithm because at each step, it makes the locally optimal choice—it selects the largest coin that does not exceed the remaining amount—without thinking about future consequences."
      ],
      "metadata": {
        "id": "y0WRjTXMNWmC"
      }
    },
    {
      "cell_type": "code",
      "source": [
        "while True:\n",
        "   x = int(input(\"Enter the value x: \"))\n",
        "   y = int(input(\"Enter the value y: \"))\n",
        "   c = input(\"Enter the operation\")\n",
        "   if c == \"+\":\n",
        "     print(x+y)\n",
        "   elif c == \"-\":\n",
        "     print(x-y)\n",
        "   elif c == \"*\":\n",
        "     print(x*y)\n",
        "   elif c == \"/\":\n",
        "     print(x/y)\n",
        "   else:\n",
        "     print(\"Heeeeeee\")"
      ],
      "metadata": {
        "colab": {
          "base_uri": "https://localhost:8080/",
          "height": 515
        },
        "id": "FxEBL06ENmDZ",
        "outputId": "84876c5b-32f7-4703-d52e-41615f280e3d"
      },
      "execution_count": 18,
      "outputs": [
        {
          "output_type": "stream",
          "name": "stdout",
          "text": [
            "Enter the value x: 23\n",
            "Enter the value y: 45\n",
            "Enter the operation+\n",
            "68\n",
            "Enter the value x: 0\n",
            "Enter the value y: 9\n",
            "Enter the operation*\n",
            "Heeeeeee\n"
          ]
        },
        {
          "output_type": "error",
          "ename": "KeyboardInterrupt",
          "evalue": "Interrupted by user",
          "traceback": [
            "\u001b[0;31m---------------------------------------------------------------------------\u001b[0m",
            "\u001b[0;31mKeyboardInterrupt\u001b[0m                         Traceback (most recent call last)",
            "\u001b[0;32m<ipython-input-18-4159573531>\u001b[0m in \u001b[0;36m<cell line: 0>\u001b[0;34m()\u001b[0m\n\u001b[1;32m      1\u001b[0m \u001b[0;32mwhile\u001b[0m \u001b[0;32mTrue\u001b[0m\u001b[0;34m:\u001b[0m\u001b[0;34m\u001b[0m\u001b[0;34m\u001b[0m\u001b[0m\n\u001b[0;32m----> 2\u001b[0;31m    \u001b[0mx\u001b[0m \u001b[0;34m=\u001b[0m \u001b[0mint\u001b[0m\u001b[0;34m(\u001b[0m\u001b[0minput\u001b[0m\u001b[0;34m(\u001b[0m\u001b[0;34m\"Enter the value x: \"\u001b[0m\u001b[0;34m)\u001b[0m\u001b[0;34m)\u001b[0m\u001b[0;34m\u001b[0m\u001b[0;34m\u001b[0m\u001b[0m\n\u001b[0m\u001b[1;32m      3\u001b[0m    \u001b[0my\u001b[0m \u001b[0;34m=\u001b[0m \u001b[0mint\u001b[0m\u001b[0;34m(\u001b[0m\u001b[0minput\u001b[0m\u001b[0;34m(\u001b[0m\u001b[0;34m\"Enter the value y: \"\u001b[0m\u001b[0;34m)\u001b[0m\u001b[0;34m)\u001b[0m\u001b[0;34m\u001b[0m\u001b[0;34m\u001b[0m\u001b[0m\n\u001b[1;32m      4\u001b[0m    \u001b[0mc\u001b[0m \u001b[0;34m=\u001b[0m \u001b[0minput\u001b[0m\u001b[0;34m(\u001b[0m\u001b[0;34m\"Enter the operation\"\u001b[0m\u001b[0;34m)\u001b[0m\u001b[0;34m\u001b[0m\u001b[0;34m\u001b[0m\u001b[0m\n\u001b[1;32m      5\u001b[0m    \u001b[0;32mif\u001b[0m \u001b[0mc\u001b[0m \u001b[0;34m==\u001b[0m \u001b[0;34m\"+\"\u001b[0m\u001b[0;34m:\u001b[0m\u001b[0;34m\u001b[0m\u001b[0;34m\u001b[0m\u001b[0m\n",
            "\u001b[0;32m/usr/local/lib/python3.11/dist-packages/ipykernel/kernelbase.py\u001b[0m in \u001b[0;36mraw_input\u001b[0;34m(self, prompt)\u001b[0m\n\u001b[1;32m   1175\u001b[0m                 \u001b[0;34m\"raw_input was called, but this frontend does not support input requests.\"\u001b[0m\u001b[0;34m\u001b[0m\u001b[0;34m\u001b[0m\u001b[0m\n\u001b[1;32m   1176\u001b[0m             )\n\u001b[0;32m-> 1177\u001b[0;31m         return self._input_request(\n\u001b[0m\u001b[1;32m   1178\u001b[0m             \u001b[0mstr\u001b[0m\u001b[0;34m(\u001b[0m\u001b[0mprompt\u001b[0m\u001b[0;34m)\u001b[0m\u001b[0;34m,\u001b[0m\u001b[0;34m\u001b[0m\u001b[0;34m\u001b[0m\u001b[0m\n\u001b[1;32m   1179\u001b[0m             \u001b[0mself\u001b[0m\u001b[0;34m.\u001b[0m\u001b[0m_parent_ident\u001b[0m\u001b[0;34m[\u001b[0m\u001b[0;34m\"shell\"\u001b[0m\u001b[0;34m]\u001b[0m\u001b[0;34m,\u001b[0m\u001b[0;34m\u001b[0m\u001b[0;34m\u001b[0m\u001b[0m\n",
            "\u001b[0;32m/usr/local/lib/python3.11/dist-packages/ipykernel/kernelbase.py\u001b[0m in \u001b[0;36m_input_request\u001b[0;34m(self, prompt, ident, parent, password)\u001b[0m\n\u001b[1;32m   1217\u001b[0m             \u001b[0;32mexcept\u001b[0m \u001b[0mKeyboardInterrupt\u001b[0m\u001b[0;34m:\u001b[0m\u001b[0;34m\u001b[0m\u001b[0;34m\u001b[0m\u001b[0m\n\u001b[1;32m   1218\u001b[0m                 \u001b[0;31m# re-raise KeyboardInterrupt, to truncate traceback\u001b[0m\u001b[0;34m\u001b[0m\u001b[0;34m\u001b[0m\u001b[0m\n\u001b[0;32m-> 1219\u001b[0;31m                 \u001b[0;32mraise\u001b[0m \u001b[0mKeyboardInterrupt\u001b[0m\u001b[0;34m(\u001b[0m\u001b[0;34m\"Interrupted by user\"\u001b[0m\u001b[0;34m)\u001b[0m \u001b[0;32mfrom\u001b[0m \u001b[0;32mNone\u001b[0m\u001b[0;34m\u001b[0m\u001b[0;34m\u001b[0m\u001b[0m\n\u001b[0m\u001b[1;32m   1220\u001b[0m             \u001b[0;32mexcept\u001b[0m \u001b[0mException\u001b[0m\u001b[0;34m:\u001b[0m\u001b[0;34m\u001b[0m\u001b[0;34m\u001b[0m\u001b[0m\n\u001b[1;32m   1221\u001b[0m                 \u001b[0mself\u001b[0m\u001b[0;34m.\u001b[0m\u001b[0mlog\u001b[0m\u001b[0;34m.\u001b[0m\u001b[0mwarning\u001b[0m\u001b[0;34m(\u001b[0m\u001b[0;34m\"Invalid Message:\"\u001b[0m\u001b[0;34m,\u001b[0m \u001b[0mexc_info\u001b[0m\u001b[0;34m=\u001b[0m\u001b[0;32mTrue\u001b[0m\u001b[0;34m)\u001b[0m\u001b[0;34m\u001b[0m\u001b[0;34m\u001b[0m\u001b[0m\n",
            "\u001b[0;31mKeyboardInterrupt\u001b[0m: Interrupted by user"
          ]
        }
      ]
    },
    {
      "cell_type": "markdown",
      "source": [
        "# 📘 **Example: Check if a Number is Prime**"
      ],
      "metadata": {
        "id": "o5aJAdsekKjr"
      }
    },
    {
      "cell_type": "markdown",
      "source": [
        "---"
      ],
      "metadata": {
        "id": "yrhmUSgrfFwc"
      }
    },
    {
      "cell_type": "markdown",
      "source": [
        "\n",
        "\n",
        "Syllabus Reference: <br> Lab #1 – \"Write a program to determine whether the given number is Prime or not.\"\n",
        "\n",
        "🎯 **Goal**:\n",
        "\n",
        "how to:\n",
        "\n",
        "    Use loops\n",
        "\n",
        "    Use conditionals (if)\n",
        "\n",
        "    Understand a simple brute-force algorithm\n",
        "\n",
        "🧠 **Problem Explanation**\n",
        "\n",
        "    A prime number is a number that has only 2 friends – 1 and itself.\n",
        "\n",
        "    If a number has more friends (divisors), it's not prime.\n",
        "\n",
        "    Examples: 2, 3, 5, 7, 11, 13\n",
        "\n",
        "    Not prime: 4, 6, 8, 9, 10 (because they can be divided by other numbers too)"
      ],
      "metadata": {
        "id": "cXuOwZ-Oey8w"
      }
    },
    {
      "cell_type": "code",
      "source": [
        "def is_prime(n):\n",
        "    if n <= 1:\n",
        "        return False  # 0 and 1 are not prime\n",
        "    for i in range(2, int(n ** 0.5) + 1):  # Check from 2 to sqrt(n)\n",
        "        if n % i == 0:\n",
        "            return False  # If divisible, not prime\n",
        "    return True  # Otherwise, it's prime!\n"
      ],
      "metadata": {
        "id": "Zj7nPcTofJ8S"
      },
      "execution_count": null,
      "outputs": []
    },
    {
      "cell_type": "code",
      "source": [
        "# Test it\n",
        "number = 13\n",
        "if is_prime(number):\n",
        "    print(f\"{number} is a Prime Number ✅\")\n",
        "else:\n",
        "    print(f\"{number} is Not a Prime Number ❌\")"
      ],
      "metadata": {
        "colab": {
          "base_uri": "https://localhost:8080/"
        },
        "id": "Fqx2y0O7gYbW",
        "outputId": "329d7e2b-95cf-4f6d-fdbd-5a607b69bf14"
      },
      "execution_count": null,
      "outputs": [
        {
          "output_type": "stream",
          "name": "stdout",
          "text": [
            "13 is a Prime Number ✅\n"
          ]
        }
      ]
    },
    {
      "cell_type": "markdown",
      "source": [
        "🧮 Why only go up to √n (square root of n)?\n",
        "\n",
        "Let’s say you’re checking if 36 is a prime:\n",
        "\n",
        "Factors of 36\tPair Form\n",
        "```\n",
        "1 × 36\t→ (1, 36)\n",
        "2 × 18\t→ (2, 18)\n",
        "3 × 12\t→ (3, 12)\n",
        "4 × 9 \t→ (4, 9)\n",
        "6 × 6\t → (6, 6) ← this is where we hit square root (√36 = 6)\n",
        "\n",
        "```\n",
        "\n",
        "\n",
        "\n",
        "After this point, the factor pairs just repeat in reverse!\n",
        "\n",
        "So if you didn’t find any divisor before √n, you won’t find one after it either. That’s why we stop at √n."
      ],
      "metadata": {
        "id": "Fzpdgl18jGBI"
      }
    },
    {
      "cell_type": "code",
      "source": [
        "while True:\n",
        "  x = int(input(\"enter x\"))\n",
        "  y = int(input(\"enter y\"))\n",
        "  c = input(\"enter op\")\n",
        "  if c == \"+\":\n",
        "    print(x + y)\n",
        "  elif c ==\"-\":\n",
        "    print(x -y)\n",
        "  else:\n",
        "    print(\"noob\")"
      ],
      "metadata": {
        "id": "FlnjpcGRqiCb"
      },
      "execution_count": null,
      "outputs": []
    }
  ]
}